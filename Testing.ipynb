{
 "cells": [
  {
   "cell_type": "code",
   "execution_count": 6,
   "id": "a05b3f4c",
   "metadata": {},
   "outputs": [],
   "source": [
    "from keras.preprocessing import image\n",
    "import numpy as np"
   ]
  },
  {
   "cell_type": "code",
   "execution_count": 9,
   "id": "0a462b60",
   "metadata": {},
   "outputs": [
    {
     "name": "stdout",
     "output_type": "stream",
     "text": [
      "<PIL.Image.Image image mode=L size=28x28 at 0x1F69F1F5FD0>\n",
      "(28, 28, 1)\n"
     ]
    },
    {
     "data": {
      "text/plain": [
       "array([[5.7545938e-18, 1.9391170e-20, 3.9507883e-18, 4.5791287e-12,\n",
       "        1.4262742e-20, 1.0000000e+00, 3.1116565e-14, 1.4801765e-17,\n",
       "        5.7891017e-16, 5.4907271e-14]], dtype=float32)"
      ]
     },
     "execution_count": 9,
     "metadata": {},
     "output_type": "execute_result"
    }
   ],
   "source": [
    "#Test\n",
    "\n",
    "from keras.models import load_model\n",
    "model=load_model('model.h5')\n",
    "img=image.load_img('52.png',target_size=(28,28),color_mode='grayscale')\n",
    "\n",
    "print(img)\n",
    "\n",
    "img=image.img_to_array(img)\n",
    "img=img/255\n",
    "\n",
    "print(img.shape)\n",
    "\n",
    "for y in range(28):\n",
    "  for z in range(28):\n",
    "    if img[y][z][0]==1:\n",
    "      img[y][z][0]=0\n",
    "    else:\n",
    "      img[y][z][0]= 1-img[y][z][0]\n",
    "\n",
    "img=np.expand_dims(img,axis=0)\n",
    "\n",
    "\n",
    "model.predict(img)"
   ]
  },
  {
   "cell_type": "code",
   "execution_count": null,
   "id": "3ac379bb",
   "metadata": {},
   "outputs": [],
   "source": []
  }
 ],
 "metadata": {
  "kernelspec": {
   "display_name": "Python 3 (ipykernel)",
   "language": "python",
   "name": "python3"
  },
  "language_info": {
   "codemirror_mode": {
    "name": "ipython",
    "version": 3
   },
   "file_extension": ".py",
   "mimetype": "text/x-python",
   "name": "python",
   "nbconvert_exporter": "python",
   "pygments_lexer": "ipython3",
   "version": "3.9.7"
  }
 },
 "nbformat": 4,
 "nbformat_minor": 5
}
