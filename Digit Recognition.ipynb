{
 "cells": [
  {
   "cell_type": "markdown",
   "id": "875ce285",
   "metadata": {},
   "source": [
    "### Digit Recognition"
   ]
  },
  {
   "cell_type": "code",
   "execution_count": 2,
   "id": "3e91e6c6",
   "metadata": {},
   "outputs": [],
   "source": [
    "import numpy as np\n",
    "import matplotlib.pyplot as plt\n",
    "import keras\n",
    "from keras.models import Sequential\n",
    "from keras.layers import Dense, Conv2D,MaxPooling2D,Flatten,SpatialDropout2D,Dropout\n",
    "import keras.backend as k\n",
    "from tensorflow.keras.utils import to_categorical\n",
    "import matplotlib.pyplot as plt\n",
    "from keras.preprocessing import image"
   ]
  },
  {
   "cell_type": "code",
   "execution_count": 3,
   "id": "45314af2",
   "metadata": {},
   "outputs": [
    {
     "name": "stdout",
     "output_type": "stream",
     "text": [
      "Downloading data from https://storage.googleapis.com/tensorflow/tf-keras-datasets/mnist.npz\n",
      "11493376/11490434 [==============================] - 1945s 169us/step\n",
      "11501568/11490434 [==============================] - 1945s 169us/step\n"
     ]
    }
   ],
   "source": [
    "(X_train,y_train),(X_test,y_test)=keras.datasets.mnist.load_data()"
   ]
  },
  {
   "cell_type": "code",
   "execution_count": 4,
   "id": "83b201b1",
   "metadata": {},
   "outputs": [],
   "source": [
    "image_size=(28,28)\n",
    "\n",
    "if k.image_data_format()=='channels_last':\n",
    "  X_train=X_train.reshape(X_train.shape[0],image_size[0],image_size[1],1) #Number of channels is 1 as the images are black and white\n",
    "  X_test=X_test.reshape(X_test.shape[0],image_size[0],image_size[1],1)\n",
    "  input_shape=(image_size[0],image_size[1],1)\n",
    "else:\n",
    "  X_train=X_train.reshape(X_train.shape[0],1,image_size[0],image_size[1]) #Number of channels is 1 as the images are black and white\n",
    "  X_test=X_test.reshape(X_test.shape[0],1,image_size[0],image_size[1])\n",
    "  input_shape=(1,image_size[0],image_size[1])\n"
   ]
  },
  {
   "cell_type": "code",
   "execution_count": 5,
   "id": "070f12c4",
   "metadata": {},
   "outputs": [
    {
     "name": "stdout",
     "output_type": "stream",
     "text": [
      "Training set shape:  (60000, 28, 28, 1) \n",
      "Test set shape:  (10000, 28, 28, 1) \n",
      "Input Shape:  (28, 28, 1)\n"
     ]
    }
   ],
   "source": [
    "print('Training set shape: ',X_train.shape,'\\nTest set shape: ',X_test.shape,'\\nInput Shape: ',input_shape)\n"
   ]
  },
  {
   "cell_type": "code",
   "execution_count": 6,
   "id": "96b87afd",
   "metadata": {},
   "outputs": [],
   "source": [
    "X_train=X_train.astype(float)\n",
    "\n",
    "X_test=X_test.astype(float)\n",
    "\n"
   ]
  },
  {
   "cell_type": "code",
   "execution_count": 7,
   "id": "a9392b6a",
   "metadata": {},
   "outputs": [],
   "source": [
    "X_train = X_train/255\n",
    "X_test = X_test/255\n"
   ]
  },
  {
   "cell_type": "code",
   "execution_count": 8,
   "id": "7dbbef4c",
   "metadata": {},
   "outputs": [],
   "source": [
    "y_train=to_categorical(y_train,num_classes=10)\n",
    "y_test=to_categorical(y_test,num_classes=10)\n",
    "\n",
    "#Building the CNN\n",
    "model=Sequential()\n",
    "model.add(Conv2D(64,(3,3),padding='same',activation='relu',input_shape=input_shape))\n",
    "model.add(MaxPooling2D(2,2))\n",
    "model.add(Conv2D(32,(3,3),padding='same',activation='relu'))\n",
    "model.add(MaxPooling2D(2,2))\n",
    "model.add(Conv2D(32,(3,3),padding='valid',activation='relu'))\n",
    "model.add(MaxPooling2D(2,2))\n",
    "model.add(Flatten())\n",
    "model.add(Dropout(0.3))\n",
    "model.add(Dense(100,activation='relu'))\n",
    "model.add(Dropout(0.3))\n",
    "model.add(Dense(10,activation='softmax'))"
   ]
  },
  {
   "cell_type": "code",
   "execution_count": 9,
   "id": "a25391ae",
   "metadata": {},
   "outputs": [
    {
     "name": "stdout",
     "output_type": "stream",
     "text": [
      "Epoch 1/32\n",
      "3750/3750 [==============================] - 96s 25ms/step - loss: 0.2902 - accuracy: 0.9077 - val_loss: 0.0580 - val_accuracy: 0.9812\n",
      "Epoch 2/32\n",
      "3750/3750 [==============================] - 90s 24ms/step - loss: 0.1086 - accuracy: 0.9681 - val_loss: 0.0377 - val_accuracy: 0.9874\n",
      "Epoch 3/32\n",
      "3750/3750 [==============================] - 83s 22ms/step - loss: 0.0831 - accuracy: 0.9752 - val_loss: 0.0480 - val_accuracy: 0.9838\n",
      "Epoch 4/32\n",
      "3750/3750 [==============================] - 82s 22ms/step - loss: 0.0707 - accuracy: 0.9790 - val_loss: 0.0303 - val_accuracy: 0.9899\n",
      "Epoch 5/32\n",
      "3750/3750 [==============================] - 81s 22ms/step - loss: 0.0594 - accuracy: 0.9821 - val_loss: 0.0277 - val_accuracy: 0.9915\n",
      "Epoch 6/32\n",
      "3750/3750 [==============================] - 82s 22ms/step - loss: 0.0566 - accuracy: 0.9830 - val_loss: 0.0323 - val_accuracy: 0.9900\n",
      "Epoch 7/32\n",
      "3750/3750 [==============================] - 79s 21ms/step - loss: 0.0503 - accuracy: 0.9848 - val_loss: 0.0262 - val_accuracy: 0.9915\n",
      "Epoch 8/32\n",
      "3750/3750 [==============================] - 80s 21ms/step - loss: 0.0482 - accuracy: 0.9854 - val_loss: 0.0293 - val_accuracy: 0.9915\n",
      "Epoch 9/32\n",
      "3750/3750 [==============================] - 77s 21ms/step - loss: 0.0445 - accuracy: 0.9869 - val_loss: 0.0272 - val_accuracy: 0.9920\n",
      "Epoch 10/32\n",
      "3750/3750 [==============================] - 79s 21ms/step - loss: 0.0435 - accuracy: 0.9867 - val_loss: 0.0290 - val_accuracy: 0.9912\n",
      "Epoch 11/32\n",
      "3750/3750 [==============================] - 80s 21ms/step - loss: 0.0418 - accuracy: 0.9873 - val_loss: 0.0292 - val_accuracy: 0.9910\n",
      "Epoch 12/32\n",
      "3750/3750 [==============================] - 85s 23ms/step - loss: 0.0390 - accuracy: 0.9877 - val_loss: 0.0297 - val_accuracy: 0.9917\n",
      "Epoch 13/32\n",
      "3750/3750 [==============================] - 82s 22ms/step - loss: 0.0377 - accuracy: 0.9887 - val_loss: 0.0327 - val_accuracy: 0.9906\n",
      "Epoch 14/32\n",
      "3750/3750 [==============================] - 81s 22ms/step - loss: 0.0377 - accuracy: 0.9886 - val_loss: 0.0256 - val_accuracy: 0.9924\n",
      "Epoch 15/32\n",
      "3750/3750 [==============================] - 80s 21ms/step - loss: 0.0374 - accuracy: 0.9888 - val_loss: 0.0242 - val_accuracy: 0.9919\n",
      "Epoch 16/32\n",
      "3750/3750 [==============================] - 80s 21ms/step - loss: 0.0360 - accuracy: 0.9891 - val_loss: 0.0340 - val_accuracy: 0.9899\n",
      "Epoch 17/32\n",
      "3750/3750 [==============================] - 90s 24ms/step - loss: 0.0356 - accuracy: 0.9888 - val_loss: 0.0287 - val_accuracy: 0.9909\n",
      "Epoch 18/32\n",
      "3750/3750 [==============================] - 86s 23ms/step - loss: 0.0357 - accuracy: 0.9890 - val_loss: 0.0268 - val_accuracy: 0.9914\n",
      "Epoch 19/32\n",
      "3750/3750 [==============================] - 89s 24ms/step - loss: 0.0315 - accuracy: 0.9904 - val_loss: 0.0310 - val_accuracy: 0.9909\n",
      "Epoch 20/32\n",
      "3750/3750 [==============================] - 81s 22ms/step - loss: 0.0328 - accuracy: 0.9899 - val_loss: 0.0335 - val_accuracy: 0.9913\n",
      "Epoch 21/32\n",
      "3750/3750 [==============================] - 81s 22ms/step - loss: 0.0342 - accuracy: 0.9895 - val_loss: 0.0288 - val_accuracy: 0.9915\n",
      "Epoch 22/32\n",
      "3750/3750 [==============================] - 84s 22ms/step - loss: 0.0306 - accuracy: 0.9908 - val_loss: 0.0320 - val_accuracy: 0.9912\n",
      "Epoch 23/32\n",
      "3750/3750 [==============================] - 84s 22ms/step - loss: 0.0308 - accuracy: 0.9907 - val_loss: 0.0246 - val_accuracy: 0.9932\n",
      "Epoch 24/32\n",
      "3750/3750 [==============================] - 88s 23ms/step - loss: 0.0310 - accuracy: 0.9908 - val_loss: 0.0298 - val_accuracy: 0.9927\n",
      "Epoch 25/32\n",
      "3750/3750 [==============================] - 85s 23ms/step - loss: 0.0293 - accuracy: 0.9913 - val_loss: 0.0329 - val_accuracy: 0.9911\n",
      "Epoch 26/32\n",
      "3750/3750 [==============================] - 81s 22ms/step - loss: 0.0307 - accuracy: 0.9906 - val_loss: 0.0250 - val_accuracy: 0.9926\n",
      "Epoch 27/32\n",
      "3750/3750 [==============================] - 82s 22ms/step - loss: 0.0289 - accuracy: 0.9916 - val_loss: 0.0314 - val_accuracy: 0.9920\n",
      "Epoch 28/32\n",
      "3750/3750 [==============================] - 86s 23ms/step - loss: 0.0296 - accuracy: 0.9909 - val_loss: 0.0328 - val_accuracy: 0.9919\n",
      "Epoch 29/32\n",
      "3750/3750 [==============================] - 82s 22ms/step - loss: 0.0285 - accuracy: 0.9916 - val_loss: 0.0306 - val_accuracy: 0.9931\n",
      "Epoch 30/32\n",
      "3750/3750 [==============================] - 81s 22ms/step - loss: 0.0258 - accuracy: 0.9923 - val_loss: 0.0300 - val_accuracy: 0.9921\n",
      "Epoch 31/32\n",
      "3750/3750 [==============================] - 87s 23ms/step - loss: 0.0294 - accuracy: 0.9913 - val_loss: 0.0326 - val_accuracy: 0.9921\n",
      "Epoch 32/32\n",
      "3750/3750 [==============================] - 80s 21ms/step - loss: 0.0296 - accuracy: 0.9918 - val_loss: 0.0326 - val_accuracy: 0.9924\n"
     ]
    }
   ],
   "source": [
    "model.compile(optimizer='adam',loss='categorical_crossentropy',metrics=['accuracy'])\n",
    "\n",
    "model_save=model.fit(X_train,y_train,batch_size=16,epochs=32,validation_data=(X_test,y_test))\n",
    "\n",
    "model.save('model.h5',model_save)\n"
   ]
  },
  {
   "cell_type": "code",
   "execution_count": null,
   "id": "9c0592cd",
   "metadata": {},
   "outputs": [],
   "source": []
  }
 ],
 "metadata": {
  "kernelspec": {
   "display_name": "Python 3 (ipykernel)",
   "language": "python",
   "name": "python3"
  },
  "language_info": {
   "codemirror_mode": {
    "name": "ipython",
    "version": 3
   },
   "file_extension": ".py",
   "mimetype": "text/x-python",
   "name": "python",
   "nbconvert_exporter": "python",
   "pygments_lexer": "ipython3",
   "version": "3.9.7"
  }
 },
 "nbformat": 4,
 "nbformat_minor": 5
}
